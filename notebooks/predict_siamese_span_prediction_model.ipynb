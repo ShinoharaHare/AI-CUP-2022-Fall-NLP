{
 "cells": [
  {
   "cell_type": "code",
   "execution_count": null,
   "metadata": {},
   "outputs": [],
   "source": [
    "%cd ..\n",
    "%env TOKENIZERS_PARALLELISM=false"
   ]
  },
  {
   "cell_type": "code",
   "execution_count": null,
   "metadata": {},
   "outputs": [],
   "source": [
    "import torch\n",
    "from tqdm.auto import tqdm\n",
    "\n",
    "from src import DataLoader, PredictionDatasetForSiamese, SiameseSpanPredictionModel\n",
    "from src.scoring import compute_score"
   ]
  },
  {
   "attachments": {},
   "cell_type": "markdown",
   "metadata": {},
   "source": [
    "#### 設定各項參數"
   ]
  },
  {
   "cell_type": "code",
   "execution_count": null,
   "metadata": {},
   "outputs": [],
   "source": [
    "device = torch.device('cuda')\n",
    "model_path = 'weights/s-sp.pt'\n",
    "dataset_path = 'data/splitted/test.csv'\n",
    "batch_size = 1\n",
    "top_k = 1\n",
    "max_tokens = 48"
   ]
  },
  {
   "attachments": {},
   "cell_type": "markdown",
   "metadata": {},
   "source": [
    "#### 載入模型"
   ]
  },
  {
   "cell_type": "code",
   "execution_count": null,
   "metadata": {},
   "outputs": [],
   "source": [
    "model = SiameseSpanPredictionModel()\n",
    "model.load_state_dict(torch.load(model_path))\n",
    "model = model.requires_grad_(False).to(device)"
   ]
  },
  {
   "attachments": {},
   "cell_type": "markdown",
   "metadata": {},
   "source": [
    "#### 載入資料集"
   ]
  },
  {
   "cell_type": "code",
   "execution_count": null,
   "metadata": {},
   "outputs": [],
   "source": [
    "dataset = PredictionDatasetForSiamese(dataset_path, model.tokenizer)\n",
    "dataloader = DataLoader(dataset, batch_size=batch_size, num_workers=4, pin_memory=True)"
   ]
  },
  {
   "attachments": {},
   "cell_type": "markdown",
   "metadata": {},
   "source": [
    "#### 進行預測"
   ]
  },
  {
   "cell_type": "code",
   "execution_count": null,
   "metadata": {},
   "outputs": [],
   "source": [
    "answers = []\n",
    "for xs, q, r, s, q_state, r_state in tqdm(dataloader):       \n",
    "    q.__setstate__(q_state)\n",
    "    r.__setstate__(r_state)\n",
    "    \n",
    "    q = q.to(device)\n",
    "    r = r.to(device)\n",
    "    s = s.to(device)\n",
    "\n",
    "    q_special_tokens_mask = q.pop('special_tokens_mask')\n",
    "    r_special_tokens_mask = r.pop('special_tokens_mask')\n",
    "\n",
    "    q_valid_mask: torch.Tensor = q.attention_mask.bool()\n",
    "    q_valid_mask &= ~q_special_tokens_mask.bool()\n",
    "    q_valid_mask[:, 0] = True\n",
    "\n",
    "    r_valid_mask: torch.Tensor = r.attention_mask.bool()\n",
    "    r_valid_mask &= ~r_special_tokens_mask.bool()\n",
    "    r_valid_mask[:, 0] = True\n",
    "\n",
    "    preds = model(q, r, s)\n",
    "    ans = model.decode_answers(xs, q, r, q_valid_mask, r_valid_mask, preds, top_k, max_tokens)\n",
    "    answers.extend(ans)"
   ]
  },
  {
   "attachments": {},
   "cell_type": "markdown",
   "metadata": {},
   "source": [
    "#### 計算分數"
   ]
  },
  {
   "cell_type": "code",
   "execution_count": null,
   "metadata": {},
   "outputs": [],
   "source": [
    "compute_score(answers)"
   ]
  }
 ],
 "metadata": {
  "kernelspec": {
   "display_name": "nlp-aicup",
   "language": "python",
   "name": "python3"
  },
  "language_info": {
   "codemirror_mode": {
    "name": "ipython",
    "version": 3
   },
   "file_extension": ".py",
   "mimetype": "text/x-python",
   "name": "python",
   "nbconvert_exporter": "python",
   "pygments_lexer": "ipython3",
   "version": "3.9.15"
  },
  "orig_nbformat": 4,
  "vscode": {
   "interpreter": {
    "hash": "855b61f1e5375cf859929162df8ab5c9447fb02c24e32edb82e3aa39db461a06"
   }
  }
 },
 "nbformat": 4,
 "nbformat_minor": 2
}
