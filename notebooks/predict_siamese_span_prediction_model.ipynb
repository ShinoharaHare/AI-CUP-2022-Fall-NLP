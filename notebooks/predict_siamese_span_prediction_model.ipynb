{
 "cells": [
  {
   "cell_type": "code",
   "execution_count": 1,
   "metadata": {},
   "outputs": [
    {
     "name": "stdout",
     "output_type": "stream",
     "text": [
      "d:\\Repositories\\NLP\\AI-CUP-2022-Fall-NLP\n",
      "env: TOKENIZERS_PARALLELISM=false\n"
     ]
    }
   ],
   "source": [
    "%cd ..\n",
    "%env TOKENIZERS_PARALLELISM=false"
   ]
  },
  {
   "cell_type": "code",
   "execution_count": 2,
   "metadata": {},
   "outputs": [],
   "source": [
    "import torch\n",
    "from src import DataLoader, PredictionDatasetForSiamese, SiameseSpanPredictionModel\n",
    "from src.scoring import compute_score"
   ]
  },
  {
   "cell_type": "code",
   "execution_count": 27,
   "metadata": {},
   "outputs": [],
   "source": [
    "device = torch.device('cuda')\n",
    "model_path = 'weights/v1-e0+.pt'\n",
    "dataset_path = 'data/splitted/test.csv'\n",
    "batch_size = 1\n",
    "top_k = 3\n",
    "max_tokens = 48"
   ]
  },
  {
   "cell_type": "code",
   "execution_count": 13,
   "metadata": {},
   "outputs": [],
   "source": [
    "model = SiameseSpanPredictionModel()\n",
    "model.load_state_dict(torch.load(model_path))\n",
    "model = model.requires_grad_(False).to(device)"
   ]
  },
  {
   "cell_type": "code",
   "execution_count": 28,
   "metadata": {},
   "outputs": [
    {
     "data": {
      "application/vnd.jupyter.widget-view+json": {
       "model_id": "ceb1e28ed7ec4a3087d83f94a15041da",
       "version_major": 2,
       "version_minor": 0
      },
      "text/plain": [
       "  0%|          | 0/798 [00:12<?, ?it/s]"
      ]
     },
     "metadata": {},
     "output_type": "display_data"
    }
   ],
   "source": [
    "from tqdm.auto import tqdm\n",
    "\n",
    "dataset = PredictionDatasetForSiamese(dataset_path, model.tokenizer)\n",
    "dataloader = DataLoader(dataset, batch_size=batch_size, num_workers=4, pin_memory=True)\n",
    "\n",
    "answers = []\n",
    "for xs, q, r, s, q_state, r_state in tqdm(dataloader):       \n",
    "    q.__setstate__(q_state)\n",
    "    r.__setstate__(r_state)\n",
    "    \n",
    "    q = q.to(device)\n",
    "    r = r.to(device)\n",
    "    s = s.to(device)\n",
    "\n",
    "    q_special_tokens_mask = q.pop('special_tokens_mask')\n",
    "    r_special_tokens_mask = r.pop('special_tokens_mask')\n",
    "\n",
    "    q_valid_mask: torch.Tensor = q.attention_mask.bool()\n",
    "    q_valid_mask &= ~q_special_tokens_mask.bool()\n",
    "    q_valid_mask[:, 0] = True\n",
    "\n",
    "    r_valid_mask: torch.Tensor = r.attention_mask.bool()\n",
    "    r_valid_mask &= ~r_special_tokens_mask.bool()\n",
    "    r_valid_mask[:, 0] = True\n",
    "\n",
    "    preds = model(q, r, s)\n",
    "    ans = model.decode_answers(xs, q, r, q_valid_mask, r_valid_mask, preds, top_k, max_tokens)\n",
    "    answers.extend(ans)"
   ]
  },
  {
   "cell_type": "code",
   "execution_count": 29,
   "metadata": {},
   "outputs": [
    {
     "data": {
      "application/vnd.jupyter.widget-view+json": {
       "model_id": "c97c7d97095d46e9a6551f09399a2257",
       "version_major": 2,
       "version_minor": 0
      },
      "text/plain": [
       "  0%|          | 0/798 [00:00<?, ?it/s]"
      ]
     },
     "metadata": {},
     "output_type": "display_data"
    },
    {
     "data": {
      "text/plain": [
       "0.8653439699888482"
      ]
     },
     "execution_count": 29,
     "metadata": {},
     "output_type": "execute_result"
    }
   ],
   "source": [
    "compute_score(answers)"
   ]
  }
 ],
 "metadata": {
  "kernelspec": {
   "display_name": "nlp-aicup",
   "language": "python",
   "name": "python3"
  },
  "language_info": {
   "codemirror_mode": {
    "name": "ipython",
    "version": 3
   },
   "file_extension": ".py",
   "mimetype": "text/x-python",
   "name": "python",
   "nbconvert_exporter": "python",
   "pygments_lexer": "ipython3",
   "version": "3.9.15 (main, Nov 24 2022, 14:39:17) [MSC v.1916 64 bit (AMD64)]"
  },
  "orig_nbformat": 4,
  "vscode": {
   "interpreter": {
    "hash": "9fa0d8b14c4ce0d7b4052605229cbbf7a7bb25003c7153a29af9e1b3fb42899d"
   }
  }
 },
 "nbformat": 4,
 "nbformat_minor": 2
}
