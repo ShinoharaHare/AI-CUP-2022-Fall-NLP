{
 "cells": [
  {
   "cell_type": "code",
   "execution_count": 1,
   "metadata": {},
   "outputs": [
    {
     "name": "stdout",
     "output_type": "stream",
     "text": [
      "d:\\Repositories\\NLP\\AI-CUP-2022-Fall-NLP\n",
      "env: TOKENIZERS_PARALLELISM=false\n"
     ]
    }
   ],
   "source": [
    "%cd ..\n",
    "%env TOKENIZERS_PARALLELISM=false"
   ]
  },
  {
   "cell_type": "code",
   "execution_count": 2,
   "metadata": {},
   "outputs": [],
   "source": [
    "import torch\n",
    "from src import DataLoader, PredictionDatasetForSiamese, SiameseSpanPredictionModelWithLSTM\n",
    "from src.scoring import compute_score"
   ]
  },
  {
   "cell_type": "code",
   "execution_count": 3,
   "metadata": {},
   "outputs": [],
   "source": [
    "device = torch.device('cuda')\n",
    "model_path = 'weights/v1_2-e0+.pt'\n",
    "dataset_path = 'data/splitted/val.csv'\n",
    "batch_size = 1\n",
    "top_k = 1\n",
    "max_tokens = 48"
   ]
  },
  {
   "cell_type": "code",
   "execution_count": 4,
   "metadata": {},
   "outputs": [],
   "source": [
    "model = SiameseSpanPredictionModelWithLSTM()\n",
    "model.load_state_dict(torch.load(model_path))\n",
    "model = model.requires_grad_(False).to(device)"
   ]
  },
  {
   "cell_type": "code",
   "execution_count": 5,
   "metadata": {},
   "outputs": [
    {
     "data": {
      "application/vnd.jupyter.widget-view+json": {
       "model_id": "fc0c16ff7f5d4b0a8548e74c70748ea2",
       "version_major": 2,
       "version_minor": 0
      },
      "text/plain": [
       "  0%|          | 0/798 [00:12<?, ?it/s]"
      ]
     },
     "metadata": {},
     "output_type": "display_data"
    }
   ],
   "source": [
    "from tqdm.auto import tqdm\n",
    "\n",
    "dataset = PredictionDatasetForSiamese(dataset_path, model.tokenizer)\n",
    "dataloader = DataLoader(dataset, batch_size=batch_size, num_workers=4, pin_memory=True)\n",
    "\n",
    "answers = []\n",
    "for xs, q, r, s, q_state, r_state in tqdm(dataloader):       \n",
    "    q.__setstate__(q_state)\n",
    "    r.__setstate__(r_state)\n",
    "    \n",
    "    q = q.to(device)\n",
    "    r = r.to(device)\n",
    "    s = s.to(device)\n",
    "\n",
    "    q_special_tokens_mask = q.pop('special_tokens_mask')\n",
    "    r_special_tokens_mask = r.pop('special_tokens_mask')\n",
    "\n",
    "    q_valid_mask: torch.Tensor = q.attention_mask.bool()\n",
    "    q_valid_mask &= ~q_special_tokens_mask.bool()\n",
    "    q_valid_mask[:, 0] = True\n",
    "\n",
    "    r_valid_mask: torch.Tensor = r.attention_mask.bool()\n",
    "    r_valid_mask &= ~r_special_tokens_mask.bool()\n",
    "    r_valid_mask[:, 0] = True\n",
    "\n",
    "    preds = model(q, r, s)\n",
    "    ans = model.decode_answers(xs, q, r, q_valid_mask, r_valid_mask, preds, top_k, max_tokens)\n",
    "    answers.extend(ans)"
   ]
  },
  {
   "cell_type": "code",
   "execution_count": 6,
   "metadata": {},
   "outputs": [
    {
     "data": {
      "application/vnd.jupyter.widget-view+json": {
       "model_id": "68a77e97c5d844c79ff3c22eb9a7935f",
       "version_major": 2,
       "version_minor": 0
      },
      "text/plain": [
       "  0%|          | 0/798 [00:00<?, ?it/s]"
      ]
     },
     "metadata": {},
     "output_type": "display_data"
    },
    {
     "data": {
      "text/plain": [
       "0.8481674204643606"
      ]
     },
     "execution_count": 6,
     "metadata": {},
     "output_type": "execute_result"
    }
   ],
   "source": [
    "compute_score(answers)"
   ]
  }
 ],
 "metadata": {
  "kernelspec": {
   "display_name": "nlp-aicup",
   "language": "python",
   "name": "python3"
  },
  "language_info": {
   "codemirror_mode": {
    "name": "ipython",
    "version": 3
   },
   "file_extension": ".py",
   "mimetype": "text/x-python",
   "name": "python",
   "nbconvert_exporter": "python",
   "pygments_lexer": "ipython3",
   "version": "3.9.15 (main, Nov 24 2022, 14:39:17) [MSC v.1916 64 bit (AMD64)]"
  },
  "orig_nbformat": 4,
  "vscode": {
   "interpreter": {
    "hash": "9fa0d8b14c4ce0d7b4052605229cbbf7a7bb25003c7153a29af9e1b3fb42899d"
   }
  }
 },
 "nbformat": 4,
 "nbformat_minor": 2
}
