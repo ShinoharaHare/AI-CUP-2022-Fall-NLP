{
 "cells": [
  {
   "cell_type": "code",
   "execution_count": null,
   "metadata": {},
   "outputs": [],
   "source": [
    "%cd ..\n",
    "%env TOKENIZERS_PARALLELISM=false"
   ]
  },
  {
   "cell_type": "code",
   "execution_count": null,
   "metadata": {},
   "outputs": [],
   "source": [
    "import torch\n",
    "from src import DataLoader, PredictionDatasetForSiamese, SiameseTokenClassificationModel\n",
    "from src.scoring import compute_score"
   ]
  },
  {
   "cell_type": "code",
   "execution_count": null,
   "metadata": {},
   "outputs": [],
   "source": [
    "device = torch.device('cuda')\n",
    "model_path = 'weights/v1-e0+.pt'\n",
    "dataset_path = 'data/splitted/val.csv'\n",
    "batch_size = 1"
   ]
  },
  {
   "cell_type": "code",
   "execution_count": null,
   "metadata": {},
   "outputs": [],
   "source": [
    "model = SiameseTokenClassificationModel()\n",
    "model.load_state_dict(torch.load(model_path))\n",
    "model = model.requires_grad_(False).to(device)"
   ]
  },
  {
   "cell_type": "code",
   "execution_count": null,
   "metadata": {},
   "outputs": [],
   "source": [
    "from tqdm.auto import tqdm\n",
    "\n",
    "dataset = PredictionDatasetForSiamese(dataset_path, model.tokenizer)\n",
    "dataloader = DataLoader(dataset, batch_size=batch_size, num_workers=4, pin_memory=True)\n",
    "\n",
    "answers = []\n",
    "for xs, q, r, s, q_state, r_state in tqdm(dataloader):       \n",
    "    q.__setstate__(q_state)\n",
    "    r.__setstate__(r_state)\n",
    "    \n",
    "    q = q.to(device)\n",
    "    r = r.to(device)\n",
    "    s = s.to(device)\n",
    "\n",
    "    q_special_tokens_mask = q.pop('special_tokens_mask')\n",
    "    r_special_tokens_mask = r.pop('special_tokens_mask')\n",
    "\n",
    "    preds = model(q, r, s)\n",
    "    ans = model.decode_answers(xs, q, r, q_special_tokens_mask, r_special_tokens_mask, preds)\n",
    "    answers.extend(ans)"
   ]
  },
  {
   "cell_type": "code",
   "execution_count": null,
   "metadata": {},
   "outputs": [],
   "source": [
    "compute_score(answers)"
   ]
  }
 ],
 "metadata": {
  "kernelspec": {
   "display_name": "nlp-aicup",
   "language": "python",
   "name": "python3"
  },
  "language_info": {
   "name": "python",
   "version": "3.9.15 (main, Nov 24 2022, 14:39:17) [MSC v.1916 64 bit (AMD64)]"
  },
  "orig_nbformat": 4,
  "vscode": {
   "interpreter": {
    "hash": "9fa0d8b14c4ce0d7b4052605229cbbf7a7bb25003c7153a29af9e1b3fb42899d"
   }
  }
 },
 "nbformat": 4,
 "nbformat_minor": 2
}
