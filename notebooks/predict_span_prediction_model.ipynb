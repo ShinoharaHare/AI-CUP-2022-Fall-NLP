{
 "cells": [
  {
   "cell_type": "code",
   "execution_count": 1,
   "metadata": {},
   "outputs": [
    {
     "name": "stdout",
     "output_type": "stream",
     "text": [
      "d:\\Repositories\\NLP\\AI-CUP-2022-Fall-NLP\n",
      "env: TOKENIZERS_PARALLELISM=false\n"
     ]
    }
   ],
   "source": [
    "%cd ..\n",
    "%env TOKENIZERS_PARALLELISM=false"
   ]
  },
  {
   "cell_type": "code",
   "execution_count": 2,
   "metadata": {},
   "outputs": [],
   "source": [
    "import torch\n",
    "from src import DataLoader, PredictionDataset, SpanPredictionModel\n",
    "from src.scoring import compute_score"
   ]
  },
  {
   "cell_type": "code",
   "execution_count": 3,
   "metadata": {},
   "outputs": [],
   "source": [
    "device = torch.device('cuda')\n",
    "model_path = 'weights/v6-e0+.pt'\n",
    "dataset_path = 'data/splitted/test.csv'\n",
    "batch_size = 1\n",
    "top_k = 3\n",
    "max_tokens = 10000"
   ]
  },
  {
   "cell_type": "code",
   "execution_count": 4,
   "metadata": {},
   "outputs": [],
   "source": [
    "model = SpanPredictionModel()\n",
    "model.load_state_dict(torch.load(model_path))\n",
    "model = model.requires_grad_(False).to(device)"
   ]
  },
  {
   "cell_type": "code",
   "execution_count": 5,
   "metadata": {},
   "outputs": [
    {
     "data": {
      "application/vnd.jupyter.widget-view+json": {
       "model_id": "429f7daee66c4b3388d5349556911bd2",
       "version_major": 2,
       "version_minor": 0
      },
      "text/plain": [
       "  0%|          | 0/798 [00:10<?, ?it/s]"
      ]
     },
     "metadata": {},
     "output_type": "display_data"
    }
   ],
   "source": [
    "from tqdm.auto import tqdm\n",
    "\n",
    "dataset = PredictionDataset(dataset_path, model.tokenizer)\n",
    "dataloader = DataLoader(dataset, batch_size=batch_size, num_workers=4, pin_memory=True)\n",
    "\n",
    "answers = []\n",
    "for xs, encodings, state in tqdm(dataloader):\n",
    "    encodings.__setstate__(state)\n",
    "    encodings = encodings.to(device)\n",
    "\n",
    "    special_tokens_mask = encodings.pop('special_tokens_mask')\n",
    "    valid_mask: torch.Tensor = encodings.attention_mask.bool()\n",
    "    valid_mask &= ~special_tokens_mask.bool()\n",
    "    valid_mask[:, 0] = True\n",
    "\n",
    "    preds = model(encodings)\n",
    "    ans = model.decode_answers(xs, encodings, valid_mask, preds, top_k, max_tokens)\n",
    "    answers.extend(ans)"
   ]
  },
  {
   "cell_type": "code",
   "execution_count": 6,
   "metadata": {},
   "outputs": [
    {
     "data": {
      "application/vnd.jupyter.widget-view+json": {
       "model_id": "dba2dec5a6ca43078bf6d934e6b12bdb",
       "version_major": 2,
       "version_minor": 0
      },
      "text/plain": [
       "  0%|          | 0/798 [00:00<?, ?it/s]"
      ]
     },
     "metadata": {},
     "output_type": "display_data"
    },
    {
     "data": {
      "text/plain": [
       "0.8757034201272084"
      ]
     },
     "execution_count": 6,
     "metadata": {},
     "output_type": "execute_result"
    }
   ],
   "source": [
    "compute_score(answers)"
   ]
  }
 ],
 "metadata": {
  "kernelspec": {
   "display_name": "nlp-aicup",
   "language": "python",
   "name": "python3"
  },
  "language_info": {
   "codemirror_mode": {
    "name": "ipython",
    "version": 3
   },
   "file_extension": ".py",
   "mimetype": "text/x-python",
   "name": "python",
   "nbconvert_exporter": "python",
   "pygments_lexer": "ipython3",
   "version": "3.9.15"
  },
  "orig_nbformat": 4,
  "vscode": {
   "interpreter": {
    "hash": "9fa0d8b14c4ce0d7b4052605229cbbf7a7bb25003c7153a29af9e1b3fb42899d"
   }
  }
 },
 "nbformat": 4,
 "nbformat_minor": 2
}
