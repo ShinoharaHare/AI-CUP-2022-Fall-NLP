{
 "cells": [
  {
   "cell_type": "code",
   "execution_count": null,
   "metadata": {},
   "outputs": [],
   "source": [
    "%cd ..\n",
    "%env TOKENIZERS_PARALLELISM=false"
   ]
  },
  {
   "cell_type": "code",
   "execution_count": null,
   "metadata": {},
   "outputs": [],
   "source": [
    "import torch\n",
    "from tqdm.auto import tqdm\n",
    "\n",
    "from src import DataLoader, PredictionDataset, SpanPredictionModel\n",
    "from src.scoring import compute_score"
   ]
  },
  {
   "attachments": {},
   "cell_type": "markdown",
   "metadata": {},
   "source": [
    "#### 設定各項參數"
   ]
  },
  {
   "cell_type": "code",
   "execution_count": null,
   "metadata": {},
   "outputs": [],
   "source": [
    "device = torch.device('cuda')\n",
    "model_path = 'weights/sp.pt'\n",
    "dataset_path = 'data/splitted/test.csv'\n",
    "batch_size = 1\n",
    "top_k = 3\n",
    "max_tokens = 10000"
   ]
  },
  {
   "attachments": {},
   "cell_type": "markdown",
   "metadata": {},
   "source": [
    "#### 載入模型"
   ]
  },
  {
   "cell_type": "code",
   "execution_count": null,
   "metadata": {},
   "outputs": [],
   "source": [
    "model = SpanPredictionModel()\n",
    "model.load_state_dict(torch.load(model_path))\n",
    "model = model.requires_grad_(False).to(device)"
   ]
  },
  {
   "attachments": {},
   "cell_type": "markdown",
   "metadata": {},
   "source": [
    "#### 載入資料集"
   ]
  },
  {
   "cell_type": "code",
   "execution_count": null,
   "metadata": {},
   "outputs": [],
   "source": [
    "dataset = PredictionDataset(dataset_path, model.tokenizer)\n",
    "dataloader = DataLoader(dataset, batch_size=batch_size, num_workers=4, pin_memory=True)"
   ]
  },
  {
   "attachments": {},
   "cell_type": "markdown",
   "metadata": {},
   "source": [
    "#### 進行預測"
   ]
  },
  {
   "cell_type": "code",
   "execution_count": null,
   "metadata": {},
   "outputs": [],
   "source": [
    "answers = []\n",
    "for xs, encodings, state in tqdm(dataloader):\n",
    "    encodings.__setstate__(state)\n",
    "    encodings = encodings.to(device)\n",
    "\n",
    "    special_tokens_mask = encodings.pop('special_tokens_mask')\n",
    "    valid_mask: torch.Tensor = encodings.attention_mask.bool()\n",
    "    valid_mask &= ~special_tokens_mask.bool()\n",
    "    valid_mask[:, 0] = True\n",
    "\n",
    "    preds = model(encodings)\n",
    "    ans = model.decode_answers(xs, encodings, valid_mask, preds, top_k, max_tokens)\n",
    "    answers.extend(ans)"
   ]
  },
  {
   "attachments": {},
   "cell_type": "markdown",
   "metadata": {},
   "source": [
    "#### 計算分數"
   ]
  },
  {
   "cell_type": "code",
   "execution_count": null,
   "metadata": {},
   "outputs": [],
   "source": [
    "compute_score(answers)"
   ]
  }
 ],
 "metadata": {
  "kernelspec": {
   "display_name": "nlp-aicup",
   "language": "python",
   "name": "python3"
  },
  "language_info": {
   "codemirror_mode": {
    "name": "ipython",
    "version": 3
   },
   "file_extension": ".py",
   "mimetype": "text/x-python",
   "name": "python",
   "nbconvert_exporter": "python",
   "pygments_lexer": "ipython3",
   "version": "3.9.15 (main, Nov 24 2022, 14:39:17) [MSC v.1916 64 bit (AMD64)]"
  },
  "orig_nbformat": 4,
  "vscode": {
   "interpreter": {
    "hash": "9fa0d8b14c4ce0d7b4052605229cbbf7a7bb25003c7153a29af9e1b3fb42899d"
   }
  }
 },
 "nbformat": 4,
 "nbformat_minor": 2
}
